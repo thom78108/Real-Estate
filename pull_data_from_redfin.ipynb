{
 "cells": [
  {
   "cell_type": "code",
   "execution_count": 1,
   "id": "79eb164c-62c4-4503-b1e5-7771ac12b36a",
   "metadata": {},
   "outputs": [
    {
     "name": "stdout",
     "output_type": "stream",
     "text": [
      "An error occurred: 429 Client Error: Too Many Requests for url: https://ratelimited.redfin.com/\n"
     ]
    }
   ],
   "source": [
    "import os\n",
    "import requests\n",
    "from bs4 import BeautifulSoup\n",
    "\n",
    "# Define the URL of the Redfin Data Center\n",
    "url = \"https://www.redfin.com/news/data-center/\"\n",
    "\n",
    "# Directory to save the downloaded files\n",
    "output_dir = \"redfin_data\"\n",
    "os.makedirs(output_dir, exist_ok=True)\n",
    "\n",
    "def download_redfin_data(url, output_dir):\n",
    "    try:\n",
    "        # Send a GET request to the Redfin Data Center page\n",
    "        response = requests.get(url)\n",
    "        response.raise_for_status()\n",
    "\n",
    "        # Parse the HTML content\n",
    "        soup = BeautifulSoup(response.text, 'html.parser')\n",
    "\n",
    "        # Find all links to CSV files\n",
    "        csv_links = [a['href'] for a in soup.find_all('a', href=True) if a['href'].endswith('.csv')]\n",
    "\n",
    "        if not csv_links:\n",
    "            print(\"No CSV links found on the page.\")\n",
    "            return\n",
    "\n",
    "        # Download each CSV file\n",
    "        for link in csv_links:\n",
    "            file_name = os.path.join(output_dir, link.split('/')[-1])\n",
    "            print(f\"Downloading {link}...\")\n",
    "\n",
    "            # Download the CSV file\n",
    "            file_response = requests.get(link)\n",
    "            file_response.raise_for_status()\n",
    "\n",
    "            # Save the file locally\n",
    "            with open(file_name, 'wb') as file:\n",
    "                file.write(file_response.content)\n",
    "\n",
    "            print(f\"Saved to {file_name}\")\n",
    "\n",
    "    except requests.exceptions.RequestException as e:\n",
    "        print(f\"An error occurred: {e}\")\n",
    "\n",
    "# Run the function to download Redfin data\n",
    "download_redfin_data(url, output_dir)\n"
   ]
  }
 ],
 "metadata": {
  "kernelspec": {
   "display_name": "Python 3 (ipykernel)",
   "language": "python",
   "name": "python3"
  },
  "language_info": {
   "codemirror_mode": {
    "name": "ipython",
    "version": 3
   },
   "file_extension": ".py",
   "mimetype": "text/x-python",
   "name": "python",
   "nbconvert_exporter": "python",
   "pygments_lexer": "ipython3",
   "version": "3.12.1"
  }
 },
 "nbformat": 4,
 "nbformat_minor": 5
}
